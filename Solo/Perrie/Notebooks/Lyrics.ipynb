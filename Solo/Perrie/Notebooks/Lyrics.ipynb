{
  "cells": [
    {
      "cell_type": "markdown",
      "source": [
        "# Extraindo as Letras da Discografia de Perrie Edwards\n",
        "Perrie Louise Edwards é uma cantora e compositora britânica. Ela é mais conhecida por ser integrante do grupo feminino Little Mix, um dos grupos femininos mais bem-sucedidos de todos os tempos. Edwards se estabeleceu como uma das maiores vocalistas de sua geração. Perrie deu início à carreira após participar da oitava temporada do talent show The X Factor no canal de televisão ITV.\n",
        "\n",
        "Com o grupo a cantora venceu três Brit Awards com o primeiro sendo Melhor Música Britânica em 2017, Melhor Vídeo Britânico com Woman Like Me em 2018, sendo terceiro o prêmio de Melhor Grupo Britânico - fazendo história na premiação tornando-se o primeiro grupo feminino a conseguir tal feito em mais de 43 anos da cerimônia.\n",
        "\n",
        "A cantora em junto do grupo conseguiu uma fortuna de aproximadamente £66,7 milhões de libras esterlinas e ficaram na lista entre as maiores celebridades mais bem pagas de seu país e segundo a revista inglesa Debrette elas se tornaram uma das personalidades de maior influência no Reino Unido. Edwards vendeu mais de 72 milhões de discos com o grupo, tornando-se um dos grupos femininos que mais vendeu à nível global. Como compositora contribuiu com músicas para os álbuns do Little Mix desde o início. Edwards é a primeira embaixadora feminina da marca \"Supreme Nutrition\" e em 2021 ela lançou sua marca de moda chamada Disora.\n",
        "\n",
        "Mais informações no link: https://pt.wikipedia.org/wiki/Perrie_Edwards"
      ],
      "metadata": {
        "id": "wYL68OFX2CgF"
      },
      "id": "wYL68OFX2CgF"
    },
    {
      "cell_type": "markdown",
      "source": [
        "## API LyricsGenius\n",
        "A API LyricsGenius é uma poderosa ferramenta que permite acessar uma vasta coleção de letras de músicas e informações sobre artistas. Desenvolvida pela Genius, uma plataforma conhecida por sua base de dados de letras e anotações, a API oferece funcionalidades que facilitam a busca por letras, detalhes de álbuns, informações sobre colaboradores e muito mais. Com suporte a consultas por nome de artista, título da música ou até mesmo trechos de letras, a API é especialmente útil para desenvolvedores que desejam integrar dados musicais em aplicativos e sites. Além disso, a API fornece recursos para obter anotações e interpretações das letras, enriquecendo a experiência do usuário ao explorar o significado das músicas. Através da LyricsGenius API, os amantes da música e os desenvolvedores podem aprofundar sua compreensão sobre as canções e seus criadores, trazendo um novo nível de interação com a música.\n",
        "\n",
        "Mais informações e a documentação de como usar a API no link: https://docs.genius.com/\n",
        "\n",
        "![genius.png](data:image/png;base64,iVBORw0KGgoAAAANSUhEUgAAATYAAACjCAMAAAA3vsLfAAAAmVBMVEX47mkjHyD/9mwAABj78WoAABr/92z37WkeGh8AABcgHB8VEB0cGB4IABulnktBPClTTi4MBRuvp08XEx11bzrq4GSUjUXKwlllXzURDB3Xzl0tKSTy6Gfj2mEWEh27s1NbVjHc0186NidwaziKg0F8djxOSS2DfT/SyVtIQyspJCKclUdlXzS+tlSQikPGvVc0MCUAAA8vKyM3gAc/AAAHeUlEQVR4nO2a63qqOhCGJQc0EayIaLEgHmqr1dZ23f/F7UDUAhKqxeXez7O/96cmk8lHkpkJtFoAAAAAAAAAAAAAAAAAAAAAAAAAAAAAAAAAAAAAAAAAAAAAAAAAAAAAAAAAAAAAAAD+LRgh7Lrm5EoblV1OEMbKfRk5++m/BgtG/eRyJ1n8Onsui0Amq1nPaIMFz7NXk24sGjp0XezL4l3II6MLNY/gVjBi23btSphQj5qnfNZ8TsPwxS79uBddd2kURnXpLmzTv5+epOPi+FHYlSIwdWCjNz3Uj3P7LSQaDB8+H5aDyPiE2JNjeVo2ZucxWJz5ltMvy/YmLX9oGiLt0nkw2GMJtSxelI1sXcuiBtlY/Pmlm5P9avO5GdbM7Xeo58JdvyM7vstHhsOCrZXbWjbW6zx941e73fbkmWwsVjbMsrFQmmUjo/Bctp1vlI3F4XSRjcQe6dSRztSlz61brLijDRZtuHWEb4JK2yzh37K58hvD2dJWC+FMtkmtbO2udaVsjzWyLZwwO1pZjx7n5v0ZN9eNvB8m3P6krutNpbYdziqnxQbut2zeSWXLdFT9y7KRHrfcQdqaDAX3fO2sFFfEtGrY3tEmyHLzMUh6qzfupKbPDqRD85xs2y96YteuNp+T7bTt7ymblJabacTi9X7wSLVwYtJQNhbQ0cH/SEWZNJ/aZ3vVmf0kWyuKTwRGDU6ysfj4iO8nWzaSt9Vnm8KOZ1TtJq96bldg70R5ozN7KzyPl7OGw5852TJPNEb7Odkmop2bzH1kS73Nj8TsgUvFoznHuwwVGOn52W+Pt71t9fYvyHYBBdletRZ3lk128wcIY/O46VpTi61rVZxK5hXURDZK5zrfu69sx116+rF5GA2o/LzKSiPZnL4+Ze4n2zhLqfj8thmuEkEuihLUFdGthrJZNMmst5/qqoRbRtJ2lqxJb9J4XxYGXE3lW/4H1h69GFKJQ4NGskmZGWfv9F4JyLCb6Ua3rRsWo/bGsYrp/QOvz2mayWaFz5kc9sy/j2wqv9Lpu2ttY3Kr6yVb1QQ0JxPZcjVJUpNT5GVLr8VOGNqXZLN0VFBVafc+xRVJxKEyCOli2FtHt7gCsUVx6ZCZqhDCl3GgqM5tCsUVDU+IfbU3ZdkcnQ6SD9pEtvdz2YQhF7OTQ2WglJt6XFjLpPGas3mxHMhksxyuqiXxclVNWr4CO1KWTUUF3bDJJtVV5vdvSjYZmrQg8UwcC+1UO5+/zRvqZlvKHo9PVnLXBD8XV3nZuqY0JleTRq7M3NZ2ksffyxZ+FPqmF0dO9c1DNhRZD0PqTTunqcmGsulNmXOC9anv++mS838srvKl/Kz6mqkgGxlkSdQhKjBj5PlZttIjtdUs3LooxUhr3Rs+eNRz9NZouNzIR5hGmdyc2WC5XO4cGfKfi6voG+M5m784Ihsn57TR81rZ9BIPC0kSeehIXps2paUBIdGkp28URdxMNp1FT3c5H5V5m325K8Odxu8TkNPpdqgVzF1qZUuvSUsxIXI74t3kUT4nYMROVzzfNS0a0gto9fwHJTv7tmn5NJGtZa/CfFQwdamVbU7Ll4Es+bL2BiEYS7aF11z2jNLVpc4b0bvUEuvisOZpNZKtFWVP6VArGLvUydYiWWDJB2423htTimhBeeG+le0HwQ0KrSjb7JKvL1y3zWQjg2ybes91nv8g2zJNw1RJmNPN6A3ZheVCvu5y8HLSy/asaEsuewbNZCtFBUOXWtnYPlN+2r9k+kFaIkhnbN/85SjpT3VQHl70/jCTbTq8eJ2nssnFyfIlUSGVTVrGEcgiUz58KQatKmH0QajWxKoU6puvOBa96WQm7G4j+2hPxWtD8+ziz40vjUWpbKrsPTU/RAU+Mi+AVDaLT0wjHJab5Xd7rUNtnmYX48q2XJcHofcR27nGk4YZSGomtnTRJj13mATpG3/C4sTwjQZLUh06T+/tMtXWM9lk7sWkjgoWfQ2YqUs3O7yM7zLtV/06V7rOKpmnQwfj0VO/crklQh4L+f52HKSN4/F2Y/zy4Qpyr5V9TuXLbLZxxNfWkLfpZy059wq4Bk/a+uj8OuVVh6hgdVU5YihjQ93FmKaw3cFf2VXVs+dxysVLdWM7cbvHkipU7bLGnDZ936fdICNxNK4OUMfx6R9jZI34d1mcw/RWni2yUlB8xwB7c7iRcM8+RDo0OOtShjwLJz+4I5am04oESzEtebpovkWPxleU61pXOiH9M6iJ6T3Rsc5Qp66pqki3iZur21nUSfepdBeGEfTOcuveZdrrFxE68ujvZm9uy+z5Us3tu/HT4Hb3vIxEyXDBBRV+/2Nda5ckD4KWEO6z8d6m5ws6LIwVvfpCWOYPWMjAEXRZ7689H82sdORO/2NSn1+kc1ttwtRpa/bD5K4nfSEfBRd8K8lIOyhjCryt9OPHoPxhnvopqumhgt1Zl0p3mRr4om87s0aXNv4FFxplJf6GK5c58pfaAgAAAAAAAAAAAAAAAAAAAAAAAAAAAAAAAAAAAAAAAAAAAAAAAAAAAAAAAAAAAAD+f/wDYSiBJws/O4wAAAAASUVORK5CYII=)"
      ],
      "metadata": {
        "id": "pm3fZbJx2stA"
      },
      "id": "pm3fZbJx2stA"
    },
    {
      "cell_type": "code",
      "execution_count": null,
      "id": "e8f15325-1c11-431a-a066-25f866b5e09a",
      "metadata": {
        "id": "e8f15325-1c11-431a-a066-25f866b5e09a",
        "outputId": "b8bc93bc-7fb9-41a7-e2b9-15cb981f5984"
      },
      "outputs": [
        {
          "name": "stdout",
          "output_type": "stream",
          "text": [
            "Searching for songs by Perrie...\n",
            "\n",
            "Song 1: \"Forget About Us\"\n",
            "Song 2: \"You Go Your Way\"\n",
            "Song 3: \"Tears\"\n",
            "Song 4: \"Me, Myself & You\"\n",
            "Song 5: \"Rollercoaster\"\n",
            "\n",
            "Reached user-specified song limit (5).\n",
            "Done. Found 5 songs.\n"
          ]
        }
      ],
      "source": [
        "# Importando as bibliotecas\n",
        "import os\n",
        "import pandas as pd\n",
        "import requests\n",
        "import lyricsgenius\n",
        "import csv\n",
        "\n",
        "# Chamada de Requisição\n",
        "api_key = \"rkmYPIURaV9uyAXm8OhBNkDG_bGgeYFP_UDFfasHS0b_sxPWz2PrBJR8Rmcdzhhr\"\n",
        "genius = lyricsgenius.Genius(api_key)\n",
        "\n",
        "# Busca do artista na API\n",
        "# Limitando para 5 músicas pois a discografia oficial é somente essa quantidade de músicas\n",
        "artist = genius.search_artist(\"Perrie\", max_songs=5)"
      ]
    },
    {
      "cell_type": "code",
      "execution_count": null,
      "id": "13a2454f-bee1-4412-80ea-9afcf180307e",
      "metadata": {
        "id": "13a2454f-bee1-4412-80ea-9afcf180307e",
        "outputId": "0ceddf78-08db-4edb-86f6-f0459628b287"
      },
      "outputs": [
        {
          "name": "stdout",
          "output_type": "stream",
          "text": [
            "Wrote Lyrics_Perrie.json.\n"
          ]
        }
      ],
      "source": [
        "# Importando para um arquivo json\n",
        "artist.save_lyrics()"
      ]
    },
    {
      "cell_type": "code",
      "execution_count": null,
      "id": "5b51152e-d701-4ed8-adf5-b3721b2882c5",
      "metadata": {
        "id": "5b51152e-d701-4ed8-adf5-b3721b2882c5",
        "outputId": "ad1c8777-7073-4ff4-eb92-550d63bb65bf"
      },
      "outputs": [
        {
          "data": {
            "text/plain": [
              "dict_keys(['alternate_names', 'api_path', 'description', 'facebook_name', 'header_image_url', 'id', 'image_url', 'instagram_name', 'is_meme_verified', 'is_verified', 'name', 'translation_artist', 'twitter_name', 'url', 'current_user_metadata', 'followers_count', 'description_annotation', 'user', 'songs'])"
            ]
          },
          "execution_count": 7,
          "metadata": {},
          "output_type": "execute_result"
        }
      ],
      "source": [
        "# Acessando as chaves principais dos dados contidos no arquivo JSON\n",
        "data = json.load(open(\"Lyrics_Perrie.json\", \"r\"))\n",
        "data.keys()"
      ]
    },
    {
      "cell_type": "code",
      "execution_count": null,
      "id": "0943552b-d17b-4059-90ee-0a0c7b250c4d",
      "metadata": {
        "id": "0943552b-d17b-4059-90ee-0a0c7b250c4d",
        "outputId": "3a824709-9f5d-4216-9802-f1ff10cf2d99"
      },
      "outputs": [
        {
          "data": {
            "text/plain": [
              "Index(['annotation_count', 'api_path', 'artist_names', 'full_title',\n",
              "       'header_image_thumbnail_url', 'header_image_url', 'id',\n",
              "       'lyrics_owner_id', 'lyrics_state', 'path', 'primary_artist_names',\n",
              "       'pyongs_count', 'relationships_index_url', 'release_date_components',\n",
              "       'release_date_for_display',\n",
              "       'release_date_with_abbreviated_month_for_display',\n",
              "       'song_art_image_thumbnail_url', 'song_art_image_url', 'stats', 'title',\n",
              "       'title_with_featured', 'url', 'featured_artists', 'primary_artist',\n",
              "       'primary_artists', 'apple_music_id', 'apple_music_player_url',\n",
              "       'description', 'embed_content', 'featured_video', 'language',\n",
              "       'recording_location', 'release_date', 'current_user_metadata',\n",
              "       'song_art_primary_color', 'song_art_secondary_color',\n",
              "       'song_art_text_color', 'album', 'custom_performances',\n",
              "       'description_annotation', 'lyrics_marked_complete_by',\n",
              "       'lyrics_marked_staff_approved_by', 'media', 'producer_artists',\n",
              "       'song_relationships', 'translation_songs', 'verified_annotations_by',\n",
              "       'verified_contributors', 'verified_lyrics_by', 'writer_artists',\n",
              "       'artist', 'lyrics'],\n",
              "      dtype='object')"
            ]
          },
          "execution_count": 9,
          "metadata": {},
          "output_type": "execute_result"
        }
      ],
      "source": [
        "# Carregando dados em um dataframe e examinando os dados dentro de 'songs'\n",
        "df = pd.DataFrame(data['songs'])\n",
        "df.keys()"
      ]
    },
    {
      "cell_type": "code",
      "execution_count": null,
      "id": "97cea8bb-b6b0-4893-ba56-8c8fe0dec598",
      "metadata": {
        "id": "97cea8bb-b6b0-4893-ba56-8c8fe0dec598",
        "outputId": "fbd1b2be-f862-4379-f5a0-d7908ae744be"
      },
      "outputs": [
        {
          "data": {
            "text/html": [
              "<div>\n",
              "<style scoped>\n",
              "    .dataframe tbody tr th:only-of-type {\n",
              "        vertical-align: middle;\n",
              "    }\n",
              "\n",
              "    .dataframe tbody tr th {\n",
              "        vertical-align: top;\n",
              "    }\n",
              "\n",
              "    .dataframe thead th {\n",
              "        text-align: right;\n",
              "    }\n",
              "</style>\n",
              "<table border=\"1\" class=\"dataframe\">\n",
              "  <thead>\n",
              "    <tr style=\"text-align: right;\">\n",
              "      <th></th>\n",
              "      <th>title</th>\n",
              "      <th>lyrics</th>\n",
              "      <th>release_date</th>\n",
              "      <th>release_year</th>\n",
              "    </tr>\n",
              "  </thead>\n",
              "  <tbody>\n",
              "    <tr>\n",
              "      <th>0</th>\n",
              "      <td>Forget About Us</td>\n",
              "      <td>[Intro]\\nI don't want you ever to forget about...</td>\n",
              "      <td>2024-04-12</td>\n",
              "      <td>2024</td>\n",
              "    </tr>\n",
              "    <tr>\n",
              "      <th>1</th>\n",
              "      <td>You Go Your Way</td>\n",
              "      <td>[Intro]\\nYou go your way, I'll go mine\\nOkay, ...</td>\n",
              "      <td>2024-10-04</td>\n",
              "      <td>2024</td>\n",
              "    </tr>\n",
              "    <tr>\n",
              "      <th>2</th>\n",
              "      <td>Tears</td>\n",
              "      <td>[Intro]\\n(I know I'm never gettin' back all my...</td>\n",
              "      <td>2024-06-21</td>\n",
              "      <td>2024</td>\n",
              "    </tr>\n",
              "    <tr>\n",
              "      <th>3</th>\n",
              "      <td>Me, Myself &amp; You</td>\n",
              "      <td>[Verse 1]\\nYou're the darkest part of me\\nThe ...</td>\n",
              "      <td>2024-11-08</td>\n",
              "      <td>2024</td>\n",
              "    </tr>\n",
              "    <tr>\n",
              "      <th>4</th>\n",
              "      <td>Rollercoaster</td>\n",
              "      <td>[Intro]\\nEverybody loves\\nI'll take the highs ...</td>\n",
              "      <td>2025-02-14</td>\n",
              "      <td>2025</td>\n",
              "    </tr>\n",
              "  </tbody>\n",
              "</table>\n",
              "</div>"
            ],
            "text/plain": [
              "              title                                             lyrics  \\\n",
              "0   Forget About Us  [Intro]\\nI don't want you ever to forget about...   \n",
              "1   You Go Your Way  [Intro]\\nYou go your way, I'll go mine\\nOkay, ...   \n",
              "2             Tears  [Intro]\\n(I know I'm never gettin' back all my...   \n",
              "3  Me, Myself & You  [Verse 1]\\nYou're the darkest part of me\\nThe ...   \n",
              "4     Rollercoaster  [Intro]\\nEverybody loves\\nI'll take the highs ...   \n",
              "\n",
              "  release_date  release_year  \n",
              "0   2024-04-12          2024  \n",
              "1   2024-10-04          2024  \n",
              "2   2024-06-21          2024  \n",
              "3   2024-11-08          2024  \n",
              "4   2025-02-14          2025  "
            ]
          },
          "execution_count": 11,
          "metadata": {},
          "output_type": "execute_result"
        }
      ],
      "source": [
        "# Selecionando os dados úteis em um novo dataframe\n",
        "df_oficial = df[['title', 'lyrics', 'release_date']].copy()\n",
        "\n",
        "# Reseta o índice, se necessário\n",
        "df_oficial.reset_index(drop=True, inplace=True)\n",
        "\n",
        "# Convertendo a coluna 'release_date' para o formato de data\n",
        "df_oficial['release_date'] = pd.to_datetime(df_oficial['release_date'], errors='coerce')\n",
        "\n",
        "# Extraindo apenas o ano da coluna 'release_date' para armazenar na 'release_year'\n",
        "df_oficial['release_year'] = df_oficial['release_date'].dt.year\n",
        "\n",
        "# Exibindo o dataframe resultante\n",
        "df_oficial"
      ]
    },
    {
      "cell_type": "code",
      "execution_count": null,
      "id": "9c7941f9-4520-4444-a690-68631c916084",
      "metadata": {
        "id": "9c7941f9-4520-4444-a690-68631c916084"
      },
      "outputs": [],
      "source": [
        "import nltk\n",
        "from nltk.corpus import stopwords\n",
        "import re\n",
        "\n",
        "# Define uma função para remover stopwords de um texto\n",
        "def remove_stopwords(text):\n",
        "    # Separa o texto em uma lista de palavras\n",
        "    text = text.split(' ')\n",
        "    # Filtra a lista, mantendo apenas as palavras que não estão na lista de stopwords em inglês\n",
        "    text = [x for x in text if x not in stopwords.words('english')]\n",
        "    # Junta a lista de palavras filtradas em uma única string e a retorna\n",
        "    return ' '.join(text)\n",
        "\n",
        "# Aplica a função de remoção de stopwords em cada linha da coluna 'lyrics' do dataframe\n",
        "df_oficial.loc[:, 'lyrics'] = df_oficial.loc[:, 'lyrics'].apply(lambda x: remove_stopwords(x))\n",
        "\n",
        "# Define uma função para remover pontuação do texto\n",
        "def remove_ponctuation(text):\n",
        "    # Usa uma expressão regular para manter apenas letras (maiúsculas e minúsculas) e junta as palavras em uma string\n",
        "    return \" \".join(re.findall(\"[a-zA-Z]+\", text))\n",
        "\n",
        "# Aplica a função de remoção de pontuação em cada linha da coluna 'lyrics' do dataframe\n",
        "df_oficial.loc[:, 'lyrics'] = df_oficial.loc[:, 'lyrics'].apply(lambda x: remove_ponctuation(x))\n",
        "\n",
        "# Define uma função para remover palavras com menos de 3 caracteres do texto\n",
        "def remove_words_with_less_3(text):\n",
        "    # Separa o texto em uma lista de palavras\n",
        "    text = text.split(' ')\n",
        "    # Filtra a lista, mantendo apenas as palavras com mais de 3 caracteres\n",
        "    text = [x for x in text if len(x) > 3]\n",
        "    # Junta a lista de palavras filtradas em uma única string e a retorna\n",
        "    return ' '.join(text)\n",
        "\n",
        "# Aplica a função de remoção de palavras curtas em cada linha da coluna 'lyrics' do dataframe\n",
        "df_oficial.loc[:, 'lyrics'] = df_oficial.loc[:, 'lyrics'].apply(lambda x: remove_words_with_less_3(x))\n",
        "\n",
        "# Converte todo o texto em letras minúsculas em cada linha da coluna 'lyrics' do dataframe\n",
        "df_oficial.loc[:, 'lyrics'] = df_oficial.loc[:, 'lyrics'].apply(lambda x: x.lower())\n",
        "\n",
        "# Cria uma nova coluna 'Word Count' no dataframe que conta o número de palavras em cada linha da coluna 'lyrics'\n",
        "df_oficial['Word Count'] = df_oficial['lyrics'].apply(lambda x: len(x.split(' ')))\n",
        "\n",
        "# Função para remover as palavras indesejadas\n",
        "def remove_unwanted_words(text):\n",
        "    words_to_remove = [\"embed\", \"intro\", \"verse\", \"chorus\", \"outro\", \"instrumental\"]\n",
        "    pattern = r'\\b(?:' + '|'.join(words_to_remove) + r')\\b'\n",
        "    return re.sub(pattern, '', text, flags=re.IGNORECASE)\n",
        "\n",
        "# Aplicar a função na coluna de letras\n",
        "df_oficial[\"lyrics\"] = df_oficial[\"lyrics\"].apply(remove_unwanted_words)\n",
        "\n",
        "# Salvar o CSV atualizado\n",
        "df_oficial.to_csv(\"PerrieLyrics.csv\", index=False)"
      ]
    },
    {
      "cell_type": "code",
      "execution_count": null,
      "id": "0fd3b1e4-46bb-4ab0-8579-917289e24897",
      "metadata": {
        "id": "0fd3b1e4-46bb-4ab0-8579-917289e24897",
        "outputId": "805349a7-7710-41f4-d044-150db1f7ed4e"
      },
      "outputs": [
        {
          "data": {
            "text/plain": [
              "[('Forget About Us',\n",
              "  ' want ever forget forget  heard fell love somebody know heard found someone blew proud wanna hear songs more yeah  remember fell like everything froze glance then from heaven nothin feels like hell well here truth  want ever forget front seat listenin songs made think bonfire smoke hoodie stole flat never gave back post  want ever forget forget  felt love since sure wanna back hear name still ever feel yeah  remember fell like everything froze glance then from heaven nothin feels like hell well here truth  want ever forget front seat listenin songs made think bonfire smoke hoodie stole flat never gave back want ever forget know never perfect think life never yeah found different love movin leave buried post  want ever forget forget forget want ever forget forget yeah bridge remember fell like everything froze glance then from heaven nothin feels like hell well here truth  want ever forget front seat listenin songs made think bonfire smoke hoodie stole flat never gave back want ever forget know never perfect think life never yeah found different love movin leave buried post  want ever forget forget forget want ever forget forget',\n",
              "  '2024-04-12 00:00:00',\n",
              "  2024,\n",
              "  200),\n",
              " ('You Go Your Way',\n",
              "  ' mine okay okay okay  driving back home know there little space please something first know maybe something like  mine okay okay okay okay mine okay okay okay  turn face speak comes little joke right know laughin when look back five years time  mine okay okay okay shit scared mine okay okay okay post  finding yeah baby find hard yeah baby  love really think meet again cause scared that stop right home  mine okay okay okay okay mine okay okay okay post  finding yeah baby find hard yeah baby ahead bridge ahead cause smiling when look back five years time  mine okay okay okay mine okay okay okay mine mine okay okay okay okay mine mine okay okay okay okay',\n",
              "  '2024-10-04 00:00:00',\n",
              "  2024,\n",
              "  129),\n",
              " ('Tears',\n",
              "  ' know never gettin back tears  even care anymore keep pain know never gettin back tears from made fall keep weight know never gettin back tears  thought months startin feel like feel like nothin dream dream finally good look with clouds eyes eyes gotta tempting tempting  said sorry sorry never again  even care anymore care more keep pain keep know never gettin back tears made fall made fall keep weight weight know never gettin back tears post  want back that that have hold cause last tears  could spill floor yours want babe better without them  cause like back then just removed situation never again  even care anymore care more keep pain keep know never gettin back tears made fall made fall keep weight keep weight know never gettin back tears yeah never gettin back tears post  want back that that have hold cause last tears want back tears that that tears hold cause last tears',\n",
              "  '2024-06-21 00:00:00',\n",
              "  2024,\n",
              "  164),\n",
              " ('Me, Myself & You',\n",
              "  ' darkest part reason hard breathe stealin words speak love show unannounced take head clouds then talk down back again  keep runnin circles there never hurt head  always piece choose every lonely night mind always matter loose always holdin tight guess part life  never pull away emotion tidal wave wrap heart heavy chains hold down  keep runnin circles ever hurt head  always piece choose every lonely night mind always matter loose always holdin tight guess part life  life life always mind mind',\n",
              "  '2024-11-08 00:00:00',\n",
              "  2024,\n",
              "  88),\n",
              " ('Rollercoaster',\n",
              "  ' everybody loves take highs lows this rollercoaster this roller rollercoaster ride ride ride baby ride baby this rollercoaster roller rollercoaster  problematic could hell could pure magic automatic yeah fast could crash landing  kisses they sweet delicious  pull closer every touch gets high high when shakin makin fizz like cola head spinnin long heart ride this rollercoaster post  ride this rollercoaster roller rollercoaster ride this rollercoaster roller rollercoaster  habit tryna help heart that panic yeah tryna love  kisses they sweet delicious  pull closer every touch gets high high when shakin makin fizz like cola head spinnin long heart ride ride this rollercoaster post  ride this rollercoaster roller rollercoaster ride this rollercoaster roller rollercoaster ride baby this rollercoaster roller rollercoaster ride this rollercoaster bridge pull closer good over every touch gets high good over good over pull closer good over everybody loves good over good over this rollercoaster  good over good over good over pull closer good over good over good over this rollercoaster',\n",
              "  '2025-02-14 00:00:00',\n",
              "  2025,\n",
              "  172)]"
            ]
          },
          "execution_count": 14,
          "metadata": {},
          "output_type": "execute_result"
        }
      ],
      "source": [
        "import sqlite3\n",
        "\n",
        "# Criando um banco de dados de teste\n",
        "conn = sqlite3.connect('Perrie.db')\n",
        "\n",
        "# Salvando no banco de dados\n",
        "df_oficial.to_sql('lyrics', conn, index=False)\n",
        "\n",
        "# Verificando se os dados estão presentes no banco de dados\n",
        "c = conn.cursor()\n",
        "c.execute('''\n",
        "SELECT * FROM LYRICS\n",
        "          ''')\n",
        "# Visualização do Banco de Dados gerado\n",
        "c.fetchall()"
      ]
    }
  ],
  "metadata": {
    "kernelspec": {
      "display_name": "Python 3 (ipykernel)",
      "language": "python",
      "name": "python3"
    },
    "language_info": {
      "codemirror_mode": {
        "name": "ipython",
        "version": 3
      },
      "file_extension": ".py",
      "mimetype": "text/x-python",
      "name": "python",
      "nbconvert_exporter": "python",
      "pygments_lexer": "ipython3",
      "version": "3.12.7"
    },
    "colab": {
      "provenance": []
    }
  },
  "nbformat": 4,
  "nbformat_minor": 5
}